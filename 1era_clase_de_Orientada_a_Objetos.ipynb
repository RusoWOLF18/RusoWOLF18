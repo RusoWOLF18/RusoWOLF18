{
  "nbformat": 4,
  "nbformat_minor": 0,
  "metadata": {
    "colab": {
      "provenance": [],
      "authorship_tag": "ABX9TyM506HJu8B6I4141lSL6DXo",
      "include_colab_link": true
    },
    "kernelspec": {
      "name": "python3",
      "display_name": "Python 3"
    },
    "language_info": {
      "name": "python"
    }
  },
  "cells": [
    {
      "cell_type": "markdown",
      "metadata": {
        "id": "view-in-github",
        "colab_type": "text"
      },
      "source": [
        "<a href=\"https://colab.research.google.com/github/RusoWOLF18/RusoWOLF18/blob/main/1era_clase_de_Orientada_a_Objetos.ipynb\" target=\"_parent\"><img src=\"https://colab.research.google.com/assets/colab-badge.svg\" alt=\"Open In Colab\"/></a>"
      ]
    },
    {
      "cell_type": "code",
      "execution_count": null,
      "metadata": {
        "id": "f3IxqS7hyPKD"
      },
      "outputs": [],
      "source": [
        "class Alumno:\n",
        "  def __init__(self, param1, param2):\n",
        "    self.nombre = param1\n",
        "    self.apellido = param2\n",
        "  def Presentarse(self):\n",
        "    print('Mi nombre es: ' +self.nombre + ' '+\n",
        "          self.apellido)"
      ]
    },
    {
      "cell_type": "code",
      "source": [],
      "metadata": {
        "id": "kGFGNIPo4sSo"
      },
      "execution_count": null,
      "outputs": []
    },
    {
      "cell_type": "code",
      "source": [
        "class Pokemon:\n",
        "  def __init__(self, ID, nombre, tipo):\n",
        "    self.ID = ID\n",
        "    self.nombre = nombre\n",
        "    self.tipo = tipo\n",
        "  def MostrarNombre(self):\n",
        "    return self.nombre\n",
        "  def Atacar(self):\n",
        "    return self.nombre + 'w esta atacando'\n",
        "  def Jugar(self):\n",
        "    return self.nombre + ' esta jugando'\n",
        "    "
      ],
      "metadata": {
        "id": "1Mb_V8H94sxf"
      },
      "execution_count": null,
      "outputs": []
    },
    {
      "cell_type": "code",
      "source": [
        "pikachu = Pokemon(5, 'Pikachu', 'electrico')"
      ],
      "metadata": {
        "id": "f-_WP1IK_t5s"
      },
      "execution_count": null,
      "outputs": []
    },
    {
      "cell_type": "code",
      "source": [
        "pikachu.Atacar()"
      ],
      "metadata": {
        "colab": {
          "base_uri": "https://localhost:8080/",
          "height": 35
        },
        "id": "idWQqvO8J_7p",
        "outputId": "83b4fe02-467c-4f67-e2f3-dbbe43ce7f6e"
      },
      "execution_count": null,
      "outputs": [
        {
          "output_type": "execute_result",
          "data": {
            "text/plain": [
              "'Pikachu esta atacando'"
            ],
            "application/vnd.google.colaboratory.intrinsic+json": {
              "type": "string"
            }
          },
          "metadata": {},
          "execution_count": 24
        }
      ]
    },
    {
      "cell_type": "code",
      "source": [
        "class Player:\n",
        "  def _init_(self, nombre, nacionalidad, posicion):\n",
        "    self.nombre = nombre\n",
        "    self.nacionalidad = nacionalidad\n",
        "    self.posicion = posicion\n",
        "  def Correr(self):\n",
        "   print(self.nombre + ' esta corriendo'\n",
        "  def Saltar(self):\n",
        "    pass"
      ],
      "metadata": {
        "colab": {
          "base_uri": "https://localhost:8080/",
          "height": 131
        },
        "id": "qiRQCrsb5lxh",
        "outputId": "ce33a8e5-a65a-412c-fe4e-a7466339a9b5"
      },
      "execution_count": null,
      "outputs": [
        {
          "output_type": "error",
          "ename": "SyntaxError",
          "evalue": "ignored",
          "traceback": [
            "\u001b[0;36m  File \u001b[0;32m\"<ipython-input-1-7261b0e33a32>\"\u001b[0;36m, line \u001b[0;32m8\u001b[0m\n\u001b[0;31m    def Saltar(self):\u001b[0m\n\u001b[0m    ^\u001b[0m\n\u001b[0;31mSyntaxError\u001b[0m\u001b[0;31m:\u001b[0m invalid syntax\n"
          ]
        }
      ]
    },
    {
      "cell_type": "code",
      "source": [
        "class Cubo:\n",
        "  # cuando yo cree una clase, es obligatorio crear un constructor \n",
        "  def __init__(self, parametro): #<--- esto es un constructor\n",
        "    # un constructor puede tener parámetros\n",
        "    if parametro >0: \n",
        "      # el código dentro de un constructor puede tener validaciones\n",
        "      # o puede tener más de una lógica aplicada \n",
        "      self.lado = parametro # la propiedad lado (variable de cubo)\n",
        "                            # toma el valor de parámetro\n",
        "    else:\n",
        "      self.lado = 1         # la propiedad lado (variable de cubo)\n",
        "                            # toma de valor 1.\n",
        "\n",
        "  def CalcularVolumen(self):\n",
        "    return (self.lado)**3\n",
        "\n",
        "  def CalcularArea(self):\n",
        "    return 6*self.lado**2\n",
        "    \n",
        "  def AumentarLadoDelCubo(self, aumento):\n",
        "    if (self.lado + aumento) > 0:\n",
        "      self.lado = self.lado + aumento\n",
        "    else:\n",
        "      self.lado = self.lado"
      ],
      "metadata": {
        "id": "5H7j2ln9lUYp"
      },
      "execution_count": null,
      "outputs": []
    },
    {
      "cell_type": "code",
      "source": [
        "x = Cubo(2) # lado del cubo: 2\n",
        "# x es un objeto o instancia de la clase cubo\n",
        "# cuyo valor de parámetro es 2.\n",
        "cubo2 = Cubo(5) # se ha creado un cubo de valor de lado 5\n",
        "print(x.CalcularVolumen())\n",
        "print(x.CalcularArea())\n",
        "\n",
        "x.AumentarLadoDelCubo(-5) # lado del cubo: 2 - 5  = - 3 -> lado del cubo = -3;pero con la validación sigue en 2\n",
        "print(\"Luego del aumento del area del cubo: \")\n",
        "print(x.CalcularVolumen())\n",
        "print(x.CalcularArea())\n",
        "\n",
        "x.AumentarLadoDelCubo(5) # lado del cubo: 2 + 5 -> lado del cubo = 7\n",
        "print(\"Luego del aumento del area del cubo: \")\n",
        "print(x.CalcularVolumen())\n",
        "print(x.CalcularArea())"
      ],
      "metadata": {
        "colab": {
          "base_uri": "https://localhost:8080/"
        },
        "id": "z56C7zGbmDnc",
        "outputId": "4689256d-0ec3-46ed-b798-dcbe5bd3078c"
      },
      "execution_count": null,
      "outputs": [
        {
          "output_type": "stream",
          "name": "stdout",
          "text": [
            "8\n",
            "24\n",
            "Luego del aumento del area del cubo: \n",
            "8\n",
            "24\n",
            "Luego del aumento del area del cubo: \n",
            "343\n",
            "294\n"
          ]
        }
      ]
    },
    {
      "cell_type": "code",
      "source": [
        "class Alumno:\n",
        "  def __init__(self, param1, param2):\n",
        "    self.nombre = param1\n",
        "    self.apellido = param2\n",
        "  def Presentarse(self):\n",
        "    print('Mi nombre es: ' +self.nombre + ' '+\n",
        "          self.apellido)"
      ],
      "metadata": {
        "id": "q1qhrmtnwjWM"
      },
      "execution_count": 7,
      "outputs": []
    },
    {
      "cell_type": "code",
      "source": [
        "ejemplo = Alumno('Juan Joseph', 'kahuasay')"
      ],
      "metadata": {
        "id": "oN6RCAgFwl5U"
      },
      "execution_count": 10,
      "outputs": []
    },
    {
      "cell_type": "code",
      "source": [
        "ejemplo.Presentarse()"
      ],
      "metadata": {
        "colab": {
          "base_uri": "https://localhost:8080/"
        },
        "id": "j-eLVHlFwoHf",
        "outputId": "dfb6fb61-3561-4df0-f818-f7c5232bdad9"
      },
      "execution_count": 11,
      "outputs": [
        {
          "output_type": "stream",
          "name": "stdout",
          "text": [
            "Mi nombre es: Juan Joseph kahuasay\n"
          ]
        }
      ]
    }
  ]
}