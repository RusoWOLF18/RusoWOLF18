{
  "nbformat": 4,
  "nbformat_minor": 0,
  "metadata": {
    "colab": {
      "provenance": [],
      "authorship_tag": "ABX9TyNbpHRxLhjNm8E55AGPuZO3",
      "include_colab_link": true
    },
    "kernelspec": {
      "name": "python3",
      "display_name": "Python 3"
    },
    "language_info": {
      "name": "python"
    }
  },
  "cells": [
    {
      "cell_type": "markdown",
      "metadata": {
        "id": "view-in-github",
        "colab_type": "text"
      },
      "source": [
        "<a href=\"https://colab.research.google.com/github/RusoWOLF18/RusoWOLF18/blob/main/1era_clase_de_Orientada_a_Objetos.ipynb\" target=\"_parent\"><img src=\"https://colab.research.google.com/assets/colab-badge.svg\" alt=\"Open In Colab\"/></a>"
      ]
    },
    {
      "cell_type": "code",
      "execution_count": null,
      "metadata": {
        "id": "f3IxqS7hyPKD"
      },
      "outputs": [],
      "source": [
        "class Alumno:\n",
        "  def __init__(self, param1, param2):\n",
        "    self.nombre = param1\n",
        "    self.apellido = param2\n",
        "  def Presentarse(self):\n",
        "    print('Mi nombre es: ' +self.nombre + ' '+\n",
        "          self.apellido)"
      ]
    },
    {
      "cell_type": "code",
      "source": [],
      "metadata": {
        "id": "kGFGNIPo4sSo"
      },
      "execution_count": null,
      "outputs": []
    },
    {
      "cell_type": "markdown",
      "source": [
        "*POKEMON*"
      ],
      "metadata": {
        "id": "AdaaIz_zx7Iu"
      }
    },
    {
      "cell_type": "code",
      "source": [
        "class Pokemon:\n",
        "  def __init__(self, ID, nombre, tipo):\n",
        "    self.ID = ID\n",
        "    self.nombre = nombre\n",
        "    self.tipo = tipo\n",
        "  def MostrarNombre(self):\n",
        "    return self.nombre\n",
        "  def Atacar(self):\n",
        "    return self.nombre + 'w esta atacando'\n",
        "  def Jugar(self):\n",
        "    return self.nombre + ' esta jugando'\n",
        "    "
      ],
      "metadata": {
        "id": "1Mb_V8H94sxf"
      },
      "execution_count": null,
      "outputs": []
    },
    {
      "cell_type": "code",
      "source": [
        "pikachu = Pokemon(5, 'Pikachu', 'electrico')"
      ],
      "metadata": {
        "id": "f-_WP1IK_t5s"
      },
      "execution_count": null,
      "outputs": []
    },
    {
      "cell_type": "code",
      "source": [
        "pikachu.Atacar()"
      ],
      "metadata": {
        "colab": {
          "base_uri": "https://localhost:8080/",
          "height": 35
        },
        "id": "idWQqvO8J_7p",
        "outputId": "83b4fe02-467c-4f67-e2f3-dbbe43ce7f6e"
      },
      "execution_count": null,
      "outputs": [
        {
          "output_type": "execute_result",
          "data": {
            "text/plain": [
              "'Pikachu esta atacando'"
            ],
            "application/vnd.google.colaboratory.intrinsic+json": {
              "type": "string"
            }
          },
          "metadata": {},
          "execution_count": 24
        }
      ]
    },
    {
      "cell_type": "markdown",
      "source": [
        "*PLAYER*"
      ],
      "metadata": {
        "id": "OH1m5PyUxvAl"
      }
    },
    {
      "cell_type": "code",
      "source": [
        "class Player:\n",
        "  def __init__(self, nombre, nacionalidad, posicion):\n",
        "    self.nombre = nombre\n",
        "    self.nacionalidad = nacionalidad\n",
        "    self.posicion = posicion\n",
        "  def Correr(self):\n",
        "    print(self.nombre + ' está corriendo')\n",
        "  def Saltar(self):\n",
        "    # TODO: detalle del método\n",
        "    pass"
      ],
      "metadata": {
        "id": "qiRQCrsb5lxh"
      },
      "execution_count": 12,
      "outputs": []
    },
    {
      "cell_type": "code",
      "source": [
        "messi = Player('Leo', 'Argentino', 'Forward Right Winger')"
      ],
      "metadata": {
        "id": "oebk_wfUxuG8"
      },
      "execution_count": 13,
      "outputs": []
    },
    {
      "cell_type": "code",
      "source": [
        "messi.Correr()"
      ],
      "metadata": {
        "colab": {
          "base_uri": "https://localhost:8080/"
        },
        "id": "-dtdCglnx0K_",
        "outputId": "23199687-629e-4d2d-c799-b0cbf73d5649"
      },
      "execution_count": 14,
      "outputs": [
        {
          "output_type": "stream",
          "name": "stdout",
          "text": [
            "Leo está corriendo\n"
          ]
        }
      ]
    },
    {
      "cell_type": "markdown",
      "source": [
        "***CUBO***"
      ],
      "metadata": {
        "id": "24c7uhGHx3ef"
      }
    },
    {
      "cell_type": "code",
      "source": [
        "class Cubo:\n",
        "  # cuando yo cree una clase, es obligatorio crear un constructor \n",
        "  def __init__(self, parametro): #<--- esto es un constructor\n",
        "    # un constructor puede tener parámetros\n",
        "    if parametro >0: \n",
        "      # el código dentro de un constructor puede tener validaciones\n",
        "      # o puede tener más de una lógica aplicada \n",
        "      self.lado = parametro # la propiedad lado (variable de cubo)\n",
        "                            # toma el valor de parámetro\n",
        "    else:\n",
        "      self.lado = 1         # la propiedad lado (variable de cubo)\n",
        "                            # toma de valor 1.\n",
        "\n",
        "  def CalcularVolumen(self):\n",
        "    return (self.lado)**3\n",
        "\n",
        "  def CalcularArea(self):\n",
        "    return 6*self.lado**2\n",
        "    \n",
        "  def AumentarLadoDelCubo(self, aumento):\n",
        "    if (self.lado + aumento) > 0:\n",
        "      self.lado = self.lado + aumento\n",
        "    else:\n",
        "      self.lado = self.lado"
      ],
      "metadata": {
        "id": "5H7j2ln9lUYp"
      },
      "execution_count": null,
      "outputs": []
    },
    {
      "cell_type": "markdown",
      "source": [
        "CUBO *2*"
      ],
      "metadata": {
        "id": "GhWg2H3AyCHY"
      }
    },
    {
      "cell_type": "code",
      "source": [
        "x = Cubo(2) # lado del cubo: 2\n",
        "# x es un objeto o instancia de la clase cubo\n",
        "# cuyo valor de parámetro es 2.\n",
        "cubo2 = Cubo(5) # se ha creado un cubo de valor de lado 5\n",
        "print(x.CalcularVolumen())\n",
        "print(x.CalcularArea())\n",
        "\n",
        "x.AumentarLadoDelCubo(-5) # lado del cubo: 2 - 5  = - 3 -> lado del cubo = -3;pero con la validación sigue en 2\n",
        "print(\"Luego del aumento del area del cubo: \")\n",
        "print(x.CalcularVolumen())\n",
        "print(x.CalcularArea())\n",
        "\n",
        "x.AumentarLadoDelCubo(5) # lado del cubo: 2 + 5 -> lado del cubo = 7\n",
        "print(\"Luego del aumento del area del cubo: \")\n",
        "print(x.CalcularVolumen())\n",
        "print(x.CalcularArea())"
      ],
      "metadata": {
        "colab": {
          "base_uri": "https://localhost:8080/"
        },
        "id": "z56C7zGbmDnc",
        "outputId": "4689256d-0ec3-46ed-b798-dcbe5bd3078c"
      },
      "execution_count": null,
      "outputs": [
        {
          "output_type": "stream",
          "name": "stdout",
          "text": [
            "8\n",
            "24\n",
            "Luego del aumento del area del cubo: \n",
            "8\n",
            "24\n",
            "Luego del aumento del area del cubo: \n",
            "343\n",
            "294\n"
          ]
        }
      ]
    },
    {
      "cell_type": "code",
      "source": [
        "class Alumno:\n",
        "  def __init__(self, param1, param2):\n",
        "    self.nombre = param1\n",
        "    self.apellido = param2\n",
        "  def Presentarse(self):\n",
        "    print('Mi nombre es: ' +self.nombre + ' '+\n",
        "          self.apellido)"
      ],
      "metadata": {
        "id": "q1qhrmtnwjWM"
      },
      "execution_count": 7,
      "outputs": []
    },
    {
      "cell_type": "code",
      "source": [
        "ejemplo = Alumno('RUSSO', 'WOLF18')"
      ],
      "metadata": {
        "id": "oN6RCAgFwl5U"
      },
      "execution_count": 15,
      "outputs": []
    },
    {
      "cell_type": "code",
      "source": [
        "ejemplo.Presentarse()"
      ],
      "metadata": {
        "colab": {
          "base_uri": "https://localhost:8080/"
        },
        "id": "j-eLVHlFwoHf",
        "outputId": "4f8afe1f-524a-41e4-cbe2-1b6d5f2939f0"
      },
      "execution_count": 16,
      "outputs": [
        {
          "output_type": "stream",
          "name": "stdout",
          "text": [
            "Mi nombre es: RUSSO WOLF18\n"
          ]
        }
      ]
    }
  ]
}